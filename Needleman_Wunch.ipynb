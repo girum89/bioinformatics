{
 "metadata": {
  "language_info": {
   "codemirror_mode": {
    "name": "ipython",
    "version": 3
   },
   "file_extension": ".py",
   "mimetype": "text/x-python",
   "name": "python",
   "nbconvert_exporter": "python",
   "pygments_lexer": "ipython3",
   "version": "3.7.6"
  },
  "orig_nbformat": 2,
  "kernelspec": {
   "name": "python376jvsc74a57bd0b3ba2566441a7c06988d0923437866b63cedc61552a5af99d1f4fb67d367b25f",
   "display_name": "Python 3.7.6 64-bit (conda)"
  }
 },
 "nbformat": 4,
 "nbformat_minor": 2,
 "cells": [
  {
   "cell_type": "code",
   "execution_count": 1,
   "metadata": {},
   "outputs": [],
   "source": [
    "#imports\n",
    "from Bio import Entrez\n",
    "from Bio import SeqIO\n",
    "import numpy as np\n",
    "import time\n",
    "Entrez.email=\"email@domain.com\" ## email here\n"
   ]
  },
  {
   "source": [
    "#Save the Genbank File format use biopython\n",
    "def getGenBankFile(accession_number):\n",
    "    accession=accession_number\n",
    "    filename=accession+\".gb\"\n",
    "    getfile=Entrez.efetch(db=\"nucleotide\",rettype=\"gb\", retmode=\"text\", id=accession)\n",
    "    writeFile=open(filename,'w')\n",
    "    writeFile.write(getfile.read())\n",
    "    getfile.close()\n",
    "    writeFile.close()\n",
    "    print(\"File Saved\")\n",
    "getGenBankFile(\"NC_001133.9\")  \n",
    "getGenBankFile(\"NC_047487.1\")"
   ],
   "cell_type": "code",
   "metadata": {},
   "execution_count": 2,
   "outputs": [
    {
     "output_type": "stream",
     "name": "stdout",
     "text": [
      "File Saved\n",
      "File Saved\n"
     ]
    }
   ]
  },
  {
   "cell_type": "code",
   "execution_count": 3,
   "metadata": {},
   "outputs": [
    {
     "output_type": "stream",
     "name": "stdout",
     "text": [
      "Selected common gene is --  tfc3\n"
     ]
    }
   ],
   "source": [
    "#Extract the list of CDSs from files with gene products \n",
    "def extractListofCDS(GB_filename):\n",
    "    all_entries = {} # all CDS\n",
    "    all_products={} # all CDS gene names\n",
    "    file_name=GB_filename\n",
    "    with open(file_name, 'r') as GBFile:\n",
    "        GBcds = SeqIO.InsdcIO.GenBankCdsFeatureIterator(GBFile) # used genbank iterator from SeqIO module in Biopython to get CDS\n",
    "        for cds in GBcds:\n",
    "            if cds.seq is not None:\n",
    "                all_entries[cds.id]=cds.seq\n",
    "                all_products[cds.description.lower().split()[-1]]=cds.id\n",
    "    return all_entries, all_products\n",
    "\n",
    "# get common coding sequences from two genbank files randomly\n",
    "def getcommoncds(filename1,filename2):\n",
    "    file1_seq, file1_prod=extractListofCDS(filename1)\n",
    "    file2_seq, file2_prod=extractListofCDS(filename2)\n",
    "    prod1=list(file1_prod.keys())\n",
    "    prod2=list(file2_prod.keys())\n",
    "    intersection_set=set.intersection(set(prod1),set(prod2))\n",
    "    intersection=list(intersection_set) \n",
    "    intersection.remove('protein') #remove \"uncharacterized protein\"\n",
    "    # generate a rondom number\n",
    "    rand=np.random.randint(0,len(intersection),1)\n",
    "    rand_product=intersection[int(rand)]\n",
    "    print(\"Selected common gene is -- \", rand_product)\n",
    "    seq1=file1_seq[file1_prod[rand_product]]\n",
    "    seq2=file2_seq[file2_prod[rand_product]]\n",
    "\n",
    "    return seq1,seq2\n",
    "# I will use the files downloaded above,\n",
    "file1=\"NC_001133.9.gb\"\n",
    "file2=\"NC_047487.1.gb\"\n",
    "## \n",
    "S1,S2=getcommoncds(file1,file2)\n",
    "\n",
    "#print(\"Ok\")\n"
   ]
  },
  {
   "cell_type": "code",
   "execution_count": 4,
   "metadata": {},
   "outputs": [
    {
     "output_type": "stream",
     "name": "stdout",
     "text": [
      "Ok\n"
     ]
    }
   ],
   "source": [
    "#Blosum62 matrix \n",
    "# BLOSUM62 table from NCBI https://www.ncbi.nlm.nih.gov/IEB/ToolBox/C_DOC/lxr/source/data/BLOSUM62#0001\n",
    "# I used 23 aminoacid table\n",
    "def BLOSUMMat(aa1, aa2):\n",
    "    blosumfile=open(\"Blosum62_23AA.csv\",'r')\n",
    "    Blosum_Dictionary={}\n",
    "    line1=blosumfile.readline().strip().split(\",\")\n",
    "\n",
    "    for i in line1[1:]:\n",
    "        Blosum_Dictionary[i]={}\n",
    "        val=blosumfile.readline().strip().split(\",\")\n",
    "        aa=1\n",
    "        for j in val[1:]:\n",
    "            Blosum_Dictionary[i][line1[aa]]=j\n",
    "            aa+=1\n",
    "    return Blosum_Dictionary[aa1][aa2]\n",
    "## get alignment score of two aligned sequences using Blosum62\n",
    "def alignment_score(S1, S2,gap=-8):\n",
    "    score=0\n",
    "    for i in range(0,len(S1)):\n",
    "        if S1[i]==\"-\" or S2[i]==\"-\":\n",
    "            score+=gap\n",
    "        else:\n",
    "            score+=int(BLOSUMMat(S2[i],S1[i]))\n",
    "    return score\n",
    "print(\"Ok\")\n"
   ]
  },
  {
   "cell_type": "code",
   "execution_count": 5,
   "metadata": {},
   "outputs": [
    {
     "output_type": "stream",
     "name": "stdout",
     "text": [
      "Ok\n"
     ]
    }
   ],
   "source": [
    "# Needleman Wunch for two protein sequences S1 and S2\n",
    "def Needleman_Wunch(S1, S2, gap=-8):\n",
    "    startt=time.time()\n",
    "    n=len(S1)+1\n",
    "    m=len(S2)+1\n",
    "\n",
    "    score_matrix= np.zeros((m,n),dtype=int)\n",
    "    alignnment_matrix=np.zeros((m,n), dtype=str)\n",
    "\n",
    "    #initialize matrices\n",
    "    for i in range(m):\n",
    "        score_matrix[i][0]=gap*i\n",
    "        alignnment_matrix[i][0]=\"V\"\n",
    "    for j in range(n):\n",
    "        score_matrix[0][j]=gap*j\n",
    "        alignnment_matrix[0][j]='H'\n",
    "    alignnment_matrix[0][0]=0\n",
    "    #fill the rest of the matrices\n",
    "    for i in range(1,m):\n",
    "        for j in range(1, n):\n",
    "            diagonal=score_matrix[i-1][j-1]+ int(BLOSUMMat(S2[i-1],S1[j-1]))\n",
    "            previous_row=score_matrix[i-1][j]+gap\n",
    "            previous_column=score_matrix[i][j-1]+gap\n",
    "            maxval=max(diagonal,previous_column,previous_row)\n",
    "            score_matrix[i][j]=maxval\n",
    "            if maxval==diagonal:\n",
    "                alignnment_matrix[i][j]=\"D\"\n",
    "            elif maxval==previous_column:\n",
    "                alignnment_matrix[i][j]=\"H\"\n",
    "            else:\n",
    "                alignnment_matrix[i][j]=\"V\"\n",
    "            #Additional alignments with same score can also create. \n",
    "            # if maxval==previous_row:\n",
    "            #     alignnment_matrix[i][j]=\"V\"\n",
    "            # elif maxval==diagonal:\n",
    "            #     alignnment_matrix[i][j]=\"D\"\n",
    "            # else:\n",
    "            #     alignnment_matrix[i][j]=\"H\"\n",
    "            \n",
    "    #Backtracing the alignment begins here\n",
    "    S1_al=\"\"\n",
    "    S2_al=\"\"\n",
    "    while not (m==1 and n==1):\n",
    "        if alignnment_matrix[m-1][n-1]==\"D\":\n",
    "            S1_al+=S1[n-2]\n",
    "            S2_al+=S2[m-2]\n",
    "            m-=1\n",
    "            n-=1\n",
    "        elif alignnment_matrix[m-1][n-1]==\"H\":\n",
    "            S1_al+=S1[n-2]\n",
    "            S2_al+=\"-\"\n",
    "            n-=1\n",
    "        else:\n",
    "            S1_al+=\"-\"\n",
    "            S2_al+=S2[m-2]\n",
    "            m-=1\n",
    "    S1_aligned=S1_al[::-1]   # reverse the backtracked sequences to get the correct sequence\n",
    "    S2_aligned=S2_al[::-1]\n",
    "    print(score_matrix)\n",
    "    print(alignnment_matrix)\n",
    "    S1_a=[S1_aligned[i:i+50] for i in range(0, len(S1_aligned), 50)] # to display the alignment in avisible way I chopped the sequences to 50 bases\n",
    "    S2_a=[S2_aligned[i:i+50] for i in range(0, len(S2_aligned), 50)]\n",
    "    sp=8 #space\n",
    "    for i in range(0,len(S1_a)):\n",
    "        if i in[1,2,20,200,2000]: # for indentation purpose\n",
    "            sp+=1\n",
    "        print(\"Seq_1 \", i*50+1,S1_a[i], i*50+50)\n",
    "        print(\" \"*sp,\"|\"*len(S1_a[i]))\n",
    "        print(\"Seq_2 \", i*50+1,S2_a[i], i*50+50)\n",
    "        print()\n",
    "    endt=time.time()-startt\n",
    "    print(\"Elapsed time in seconds \",endt)\n",
    "    return alignment_score(S1_aligned, S2_aligned)\n",
    "print(\"Ok\")"
   ]
  },
  {
   "cell_type": "code",
   "execution_count": 6,
   "metadata": {},
   "outputs": [
    {
     "output_type": "stream",
     "name": "stdout",
     "text": [
      "[[    0    -8   -16 ... -9264 -9272 -9280]\n [   -8     5    -3 ... -9251 -9259 -9267]\n [  -16    -3     6 ... -9239 -9247 -9255]\n ...\n [-8840 -8827 -8815 ...  4757  4749  4741]\n [-8848 -8835 -8823 ...  4749  4755  4747]\n [-8856 -8843 -8831 ...  4741  4750  4760]]\n[['0' 'H' 'H' ... 'H' 'H' 'H']\n ['V' 'D' 'H' ... 'H' 'H' 'H']\n ['V' 'V' 'D' ... 'H' 'H' 'H']\n ...\n ['V' 'V' 'V' ... 'D' 'H' 'H']\n ['V' 'V' 'V' ... 'V' 'D' 'D']\n ['V' 'V' 'V' ... 'V' 'D' 'D']]\nSeq_1  1 MVLTIYPDELVQIVSDKIASNKGKITLNQLWDISGKYFDLSDKKVKQFVL 50\n         ||||||||||||||||||||||||||||||||||||||||||||||||||\nSeq_2  1 M------------------------------------------------- 50\n\nSeq_1  51 SCVILKKDIEVYCDGAITTKNVTDIIGDANHSYSVGITEDSLWTLLTGYT 100\n          ||||||||||||||||||||||||||||||||||||||||||||||||||\nSeq_2  51 ----LKKDIEVYCDSVITTKNVTNIIDDTSHSYSVGITEDSLWTLLTGYT 100\n\nSeq_1  101 KKESTIGNSAFELLLEVAKSGEKGINTMDLAQVTGQDPRSVTGRIKKINH 150\n           ||||||||||||||||||||||||||||||||||||||||||||||||||\nSeq_2  101 KKESTIGNSAFELLLEVAKAGEKGINTMDLAQITGQDPRSVTGRIKKICH 150\n\nSeq_1  151 LLTSSQLIYKGHVVKQLKLKKFSHDGVDSNPYINIRDHLATIVEVVKRSK 200\n           ||||||||||||||||||||||||||||||||||||||||||||||||||\nSeq_2  151 LLTSSQLIYKGHVVKLLKLKKFSHDGIDSNPYINIRDHLATIVEVVKRSK 200\n\nSeq_1  201 NGIRQIIDLKRELKFDKEKRLSKAFIAAIAWLDEKEYLKKVLVVSPKNPA 250\n           ||||||||||||||||||||||||||||||||||||||||||||||||||\nSeq_2  201 NGIRQIIDLKRELKFDKEKRLSKAFIAAIAWLDEKEYLKKVLVVSPKNPA 250\n\nSeq_1  251 IKIRCVKYVKDIPDSKGSPSFEYDSNSADEDSVSDSKAAFEDEDLVEGLD 300\n           ||||||||||||||||||||||||||||||||||||||||||||||||||\nSeq_2  251 IKIRCVKYVKDIPDSKCSPSFEYDSNSADEDSVSDSKAGLEDDDSVDGLD 300\n\nSeq_1  301 NFNATDLLQNQGLVMEEKEDAVKNEVLLNRFYPLQNQTYDIADKSGLKGI 350\n           ||||||||||||||||||||||||||||||||||||||||||||||||||\nSeq_2  301 NFNATDLLQNQGLVMEDKENAVKNEVLLNRFYPLQNQTYDIADKSGLKGI 350\n\nSeq_1  351 STMDVVNRITGKEFQRAFTKSSEYYLESVDKQKENTGGYRLFRIYDFEGK 400\n           ||||||||||||||||||||||||||||||||||||||||||||||||||\nSeq_2  351 STMDVVNRITGKEFQRAFTKSSEYYLESLDRQKDNTGGYRLFRIYDFEGK 400\n\nSeq_1  401 KKFFRLFTAQNFQKLTNAEDEISVPKGFDELGKSRTDLKTLNEDNFVALN 450\n           ||||||||||||||||||||||||||||||||||||||||||||||||||\nSeq_2  401 KKFFRLFTAQNFQKLTNAEDEISVPKGFDEPGKSHTDLKTLNEDNFVALN 450\n\nSeq_1  451 NTVRFTTDSDGQDIFFWHGELKIPPNSKKTPNKNKRKRQVKNSTNASVAG 500\n           ||||||||||||||||||||||||||||||||||||||||||||||||||\nSeq_2  451 NTVRFTRDRDGQDIFFWHGDLKIPPNSKKTPNKNKRKRQVKNTTDASVKG 500\n\nSeq_1  501 NISNPKRIKLEQHVSTAQEPKSAEDSPSSNGGTVVKGKVVNFGGFSARSL 550\n           ||||||||||||||||||||||||||||||||||||||||||||||||||\nSeq_2  501 NVSTPKRIKLEQHGGATQESKATEDSPSSNRGTVIKGKVVNFGGFSARSL 550\n\nSeq_1  551 RSLQRQRAILKVMNTIGGVAYLREQFYESVSKYMGSTTTLDKKTVRGDVD 600\n           ||||||||||||||||||||||||||||||||||||||||||||||||||\nSeq_2  551 RSLQRQRAILKVMNTIGGVAYLREQFYESVSKCMGSVTTLDKKTVRGDVN 600\n\nSeq_1  601 LMVESEKLGARTEPVSGRKIIFLPTVGEDAIQRYILKEKDSKKATFTDVI 650\n           ||||||||||||||||||||||||||||||||||||||||||||||||||\nSeq_2  601 LMVESEKLGARTEPVSGRKIIFLPTIGEDAIQSYILKEKDSKKATFTDVI 650\n\nSeq_1  651 HDTEIYFFDQTEKNRFHRGKKSVERIRKFQNRQKNAKIKASDDAISKKST 700\n           ||||||||||||||||||||||||||||||||||||||||||||||||||\nSeq_2  651 HDTEIFFFDQTEKNRFHRGKKSVERIRKFQNRQKNAKPKASDGATSKKSM 700\n\nSeq_1  701 SVNVSDGKIKRRDKKVSAGRTTVVVENTKEDKTVYHAGTKDGVQALIRAV 750\n           ||||||||||||||||||||||||||||||||||||||||||||||||||\nSeq_2  701 SVNVSDGKIKNRDKKLSASRTPAVVENTKETKTIYHAGTKDGVQALIKAV 750\n\nSeq_1  751 VVTKSIKNEIMWDKITKLFPNNSLDNLKKKWTARRVRMGHSGWRAYVDKW 800\n           ||||||||||||||||||||||||||||||||||||||||||||||||||\nSeq_2  751 VITKSIKNEILWDKITKLFPNNSLDNLKKKWTARRVRMGHSGWRAYVDKW 800\n\nSeq_1  801 KKMLVLAIKSEKISLRDVEELDLIKLLDIWTSFDEKEIKRPLFLYKNYEE 850\n           ||||||||||||||||||||||||||||||||||||||||||||||||||\nSeq_2  801 KKVLVLAIKGERISLNDVEELDLIKLLDIWTSFDEKEIKRSLYLYKNYEE 850\n\nSeq_1  851 NRKKFTLVRDDTLTHSGNDLAMSSMIQREISSLKKTYTRKISASTKDLSK 900\n           ||||||||||||||||||||||||||||||||||||||||||||||||||\nSeq_2  851 NRKRFTLVRDDTLPHSTNDLAMSSMIQREISSLKKTYTKRISGFTKDLSK 900\n\nSeq_1  901 SQSDDYIRTVIRSILIESPSTTRNEIEALKNVGNESIDNVIMDMAKEKQI 950\n           ||||||||||||||||||||||||||||||||||||||||||||||||||\nSeq_2  901 SQSDDYIRTVIRSILIENSSTTRNEIEALKNVGKESIDNVIMDMAKEKQI 950\n\nSeq_1  951 YLHGSKLECTDTLPDILENRGNYKDFGVAFQYRCKVNELLEAGNAIVINQ 1000\n           ||||||||||||||||||||||||||||||||||||||||||||||||||\nSeq_2  951 YLHGSKLECTDTLPDILESRGNYKDFGVALQYRCKINELLEAGNAIVINQ 1000\n\nSeq_1  1001 EPSDISSWVLIDLISGELLNMDVIPMVRNVRPLTYTSRRFEIRTLTPPLI 1050\n            ||||||||||||||||||||||||||||||||||||||||||||||||||\nSeq_2  1001 EPSDISSWVLIDLISGELLNMDVIPMMRNVRPLTYTSRRFEIRTLTPPLI 1050\n\nSeq_1  1051 IYANSQTKLNTARKSAVKVPLGKPFSRLWVNGSGSIRPNIWKQVVTMVVN 1100\n            ||||||||||||||||||||||||||||||||||||||||||||||||||\nSeq_2  1051 IYAKSQRKWNTPKNSAVKIPLGKPFSRLWVDGSGSIRSNIWKQVVTMVVN 1100\n\nSeq_1  1101 EIIFHPGITLSRLQSRCREVLSLHEISEICKWLLERQVLITTDFDGYWVN 1150\n            ||||||||||||||||||||||||||||||||||||||||||||||||||\nSeq_2  1101 EVKFHPGITLSRLQFRCHEVLSLHEISEICRWLLERQVLMNTDFNGFWVN 1150\n\nSeq_1  1151 HNWYSIYEST 1200\n            ||||||||||\nSeq_2  1151 HNWYSIFEFT 1200\n\nElapsed time in seconds  366.4591648578644\n"
     ]
    },
    {
     "output_type": "execute_result",
     "data": {
      "text/plain": [
       "4760"
      ]
     },
     "metadata": {},
     "execution_count": 6
    }
   ],
   "source": [
    "Needleman_Wunch(S1,S2)"
   ]
  },
  {
   "cell_type": "code",
   "execution_count": null,
   "metadata": {},
   "outputs": [],
   "source": []
  }
 ]
}